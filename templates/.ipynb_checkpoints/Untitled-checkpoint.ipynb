{
 "cells": [
  {
   "cell_type": "code",
   "execution_count": 2,
   "metadata": {},
   "outputs": [],
   "source": [
    "from flask import Flask, request, render_template\n",
    "import pyperclip\n",
    "import os\n",
    "import numpy as np\n",
    "from PIL import Image\n",
    "import pytesseract\n",
    "import matplotlib.pyplot as plt"
   ]
  },
  {
   "cell_type": "code",
   "execution_count": 3,
   "metadata": {},
   "outputs": [],
   "source": [
    "## Support Functions\n",
    "\n",
    "def filter_img(img):\n",
    "    img = binarize_image(img, threshold=127)\n",
    "    return img\n",
    "\n",
    "def binarize_array(np_array, threshold):\n",
    "    \"\"\"Binarize a np array.\"\"\"\n",
    "    up = np_array > threshold\n",
    "    new_arr = np.zeros_like(np_array)\n",
    "    new_arr[up] = 255\n",
    "    return new_arr\n",
    "\n",
    "def ocr_image(imagePath, filename, filter, lang):\n",
    "    img = Image.open(imagePath)\n",
    "    if filter == 'on':\n",
    "        img = filter_img(img)\n",
    "    img.save('./images/input_image.png')\n",
    "    try:\n",
    "        txt = pytesseract.image_to_string(img, lang=lang)\n",
    "        prediction = \"SUCCESS\"\n",
    "    except:\n",
    "        txt = \" pytesseract did not work properly with language: \"+lang\n",
    "        prediction = \"FAILURE\"\n",
    "    txt_name = filename.split('.')[0]\n",
    "    txt_path = './text/recognized_text.txt'\n",
    "    with open(txt_path, 'w') as f:\n",
    "        f.write(txt)\n",
    "\n",
    "    with open(txt_path, 'r') as f:\n",
    "        content = f.readlines()\n",
    "\n",
    "    cont = ''.join(content)\n",
    "    pyperclip.copy(cont)\n",
    "    #os.remove(imagePath)\n",
    "    return prediction, content\n",
    "\n",
    "def get_ocr(img_path, img_file, filter='on', lang='eng', show_image=True):\n",
    "    imagePath = img_path+img_file\n",
    "    prediction, content = ocr_image(imagePath, img_file, filter, lang)\n",
    "    if show_image:\n",
    "        plt.figure(figsize = (10,10))\n",
    "        img = Image.open('./images/input_image.png')\n",
    "        plt.imshow(img)\n",
    "        plt.show() \n",
    "    return prediction, content"
   ]
  },
  {
   "cell_type": "code",
   "execution_count": 5,
   "metadata": {},
   "outputs": [
    {
     "name": "stdout",
     "output_type": "stream",
     "text": [
      "ls: static/images: No such file or directory\n"
     ]
    }
   ],
   "source": [
    "!ls static/images"
   ]
  },
  {
   "cell_type": "code",
   "execution_count": 6,
   "metadata": {},
   "outputs": [
    {
     "name": "stdout",
     "output_type": "stream",
     "text": [
      "/Users/mjrovai/Dropbox/2020/20_MJRoBot/50_OCRovai/templates\n"
     ]
    }
   ],
   "source": [
    "!pwd"
   ]
  },
  {
   "cell_type": "code",
   "execution_count": null,
   "metadata": {},
   "outputs": [],
   "source": []
  }
 ],
 "metadata": {
  "kernelspec": {
   "display_name": "Python 3",
   "language": "python",
   "name": "python3"
  },
  "language_info": {
   "codemirror_mode": {
    "name": "ipython",
    "version": 3
   },
   "file_extension": ".py",
   "mimetype": "text/x-python",
   "name": "python",
   "nbconvert_exporter": "python",
   "pygments_lexer": "ipython3",
   "version": "3.7.7"
  }
 },
 "nbformat": 4,
 "nbformat_minor": 4
}
